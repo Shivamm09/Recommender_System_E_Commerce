{
 "cells": [
  {
   "cell_type": "code",
   "execution_count": 1,
   "metadata": {},
   "outputs": [],
   "source": [
    "import pandas as pd\n",
    "import numpy as np\n",
    "from tqdm import tqdm\n",
    "from scipy.stats import pearsonr\n",
    "from random import sample\n",
    "import random\n",
    "from sklearn.metrics import jaccard_score\n",
    "random.seed(24)"
   ]
  },
  {
   "cell_type": "code",
   "execution_count": 2,
   "metadata": {},
   "outputs": [],
   "source": [
    "class Data:\n",
    "    def __init__(self):\n",
    "        '''init Data class'''\n",
    "        self.data = None\n",
    "        \n",
    "    def load_data(self, filename, format='txt'):\n",
    "        '''loads data from excel, csv, tsv, or txt file'''\n",
    "        if format == 'excel':\n",
    "            self.data = pd.read_excel(filename)\n",
    "        elif format == 'csv':\n",
    "            self.data = pd.read_csv(filename)\n",
    "        elif format == 'tsv':\n",
    "            self.data = pd.read_csv(filename, sep='\\t')\n",
    "        elif format == 'txt':\n",
    "            self.data = pd.read_table(filename)\n",
    "        else:\n",
    "            raise ValueError('Invalid file format.  Please specify \"excel\", \"csv\", \"tsv\", or \"txt\".')\n",
    "    \n",
    "    def drop_small_orders(self, order_col='order_number', min_order_size=2):\n",
    "        '''drop orders from self.data that have min_order_size or less unique items in basket'''\n",
    "        self.data = self.data[self.data.groupby(order_col).order_number.transform(len) >= min_order_size]\n",
    "    \n",
    "    def expand_columns(self, columns=[]):\n",
    "        '''performs one-hot encoding on specified columns'''\n",
    "        self.data = pd.get_dummies(self.data, columns = columns,prefix=\"\", prefix_sep=\"\")\n",
    "    \n",
    "\n",
    "    def drop_columns(self, columns=[]):\n",
    "        '''drops columns from self.data'''\n",
    "        self.data.drop(columns, axis=1, inplace=True)\n",
    "        \n",
    "    def sum_orders(self, order_col='order_number'):\n",
    "        '''This method groups all the order numbers together and then sums up all the items in the same basket\n",
    "        - because currently each row has one product in the basket, want to group them together -removed the \n",
    "        quantity for simplisitic purposes\n",
    "        '''\n",
    "        data_cols = list(data.data.columns)\n",
    "        data_cols.remove(order_col)\n",
    "        self.data = self.data.groupby(order_col).sum()[data_cols].reset_index()\n",
    "        \n",
    "    def drop_duplicates(self):\n",
    "        \"\"\"Dont need multiple orders of the same product in the same basket\"\"\"\n",
    "        self.data = self.data.drop_duplicates()"
   ]
  },
  {
   "cell_type": "code",
   "execution_count": 3,
   "metadata": {},
   "outputs": [],
   "source": [
    "data = Data()\n",
    "data.load_data('Ecorp_data/All Transations - 2 Weeks.txt', format='tsv')\n",
    "data.drop_columns(columns = ['l1', 'l2', 'sku', 'brand'])\n",
    "data.drop_duplicates()"
   ]
  },
  {
   "cell_type": "code",
   "execution_count": 4,
   "metadata": {},
   "outputs": [],
   "source": [
    "data.drop_small_orders(min_order_size=10)"
   ]
  },
  {
   "cell_type": "code",
   "execution_count": 6,
   "metadata": {},
   "outputs": [],
   "source": [
    "l = len(np.unique(data.data['order_number'])) #length of data \n",
    "f = int(0.8*l)  #number of elements you need\n",
    "indices = sample(range(l),f)\n",
    "train_indices = np.unique(data.data['order_number'])[indices]\n",
    "test_indices = np.delete(np.unique(data.data['order_number']),indices)"
   ]
  },
  {
   "cell_type": "code",
   "execution_count": 7,
   "metadata": {},
   "outputs": [],
   "source": [
    "test = data.data[data.data['order_number'].isin(test_indices)]\n",
    "data.data = data.data[data.data['order_number'].isin(train_indices)]"
   ]
  },
  {
   "cell_type": "code",
   "execution_count": 8,
   "metadata": {},
   "outputs": [],
   "source": [
    "data.expand_columns(columns = ['l3'])"
   ]
  },
  {
   "cell_type": "code",
   "execution_count": 9,
   "metadata": {},
   "outputs": [],
   "source": [
    "data.sum_orders()"
   ]
  },
  {
   "cell_type": "code",
   "execution_count": 10,
   "metadata": {},
   "outputs": [],
   "source": [
    "test_dictionary = {}\n",
    "for x in np.unique(test['order_number']):\n",
    "    basket = list(test[test['order_number'] == x]['l3'])\n",
    "    predicting_value = random.randint(0,len(basket)-1)\n",
    "    predicting_product = basket[predicting_value]\n",
    "    basket = np.delete(basket, predicting_value)\n",
    "    tup = basket, predicting_product\n",
    "    test_dictionary[x] = tup"
   ]
  },
  {
   "cell_type": "code",
   "execution_count": 169,
   "metadata": {},
   "outputs": [],
   "source": [
    "class Recommender:\n",
    "    def __init__(self, data, user_col, item_cols, cf_method='item', similarity='pearson'):\n",
    "        '''init Recommender class'''\n",
    "        self.data = data\n",
    "        self.user_col = user_col\n",
    "        self.item_cols = item_cols\n",
    "        self.cf_method = cf_method\n",
    "        self.similarity = similarity\n",
    "        self.similarity_matrix = []\n",
    "        self.user_scores = []\n",
    "        self.recs = []\n",
    "        self.complementary_products = {}\n",
    "\n",
    "    def create_similarity_matrix(self):\n",
    "        '''creates correlation/similarity matrix for all items and stores result and self.similarity_matrix'''\n",
    "        self.similarity_matrix = self._create_empty_df(self.cf_method)\n",
    "        self._fill_similarity_matrix(self.similarity_matrix, self.similarity)\n",
    "\n",
    "  \n",
    "    def _create_empty_df(self, cf_type):\n",
    "        '''creates and returns empty df with users or items as rows and columns'''\n",
    "        if cf_type == 'item':\n",
    "            labels = self.item_cols\n",
    "        elif cf_type == 'user':\n",
    "            labels = self.data[user_col]\n",
    "        else:\n",
    "            raise ValueError('Invalid collaborative filtering technique.  Please specify \"item\" or \"user\".')\n",
    "        return pd.DataFrame(index=labels, columns=labels)\n",
    "\n",
    "    def _fill_similarity_matrix(self, similarity_matrix, similarity):\n",
    "        '''calculates correlation between items using specified similarity and saves results in similarity_matrix\n",
    "           valid similarity types: jaccard, pearson, cosine'''\n",
    "        k=0\n",
    "        ###this is something that might need to change\n",
    "        item_df = self.data[self.item_cols] \n",
    "        #print(item_df)\n",
    "        progress_bar = tqdm(total = similarity_matrix.shape[0], mininterval=5)\n",
    "        for i in range(similarity_matrix.shape[0]):\n",
    "            progress_bar.update()\n",
    "            similarity_matrix.iloc[i,i] = 1.0\n",
    "            x = item_df.iloc[:,i]\n",
    "            for j in range(i,similarity_matrix.shape[1]):\n",
    "                y = item_df.iloc[:,j]\n",
    "                similarity_matrix.iloc[i,j] = self._get_similarity(x, y, similarity)\n",
    "                similarity_matrix.iloc[j,i] = similarity_matrix.iloc[i, j]\n",
    "                \n",
    "    def _get_similarity(self, x, y, similarity):\n",
    "        '''calculated specified correlation between two vectors and returns result'''\n",
    "        if similarity == 'pearson':\n",
    "            return self._pearson_similarity(x, y)\n",
    "        elif similarity == 'jaccard':\n",
    "            return self._jaccard_similarity(x, y)\n",
    "        elif similarity == 'cosine':\n",
    "            return self._cosine_similarity(x, y)\n",
    "        elif similarity == 'frequency':\n",
    "            return self._frequency_similarity(x, y)\n",
    "        else:\n",
    "            raise ValueError('Invalid similarity type.  Please specify \"cosine\", \"pearson\",\"frequency\", or \"jaccard\".')\n",
    "        \n",
    "    def _pearson_similarity(self, x, y):\n",
    "        '''returns pearson correlation between x and y: covariance(x,y)/(std_dev(x)*std_dev(y))'''\n",
    "        coefficent = 0\n",
    "        x = np.array(x)\n",
    "        y = np.array(y)\n",
    "        x_indices = np.argwhere(x==1)\n",
    "        if(len(x_indices) >0):\n",
    "            y_values = y[x_indices]\n",
    "            y_indices = np.where(y_values == 1)  \n",
    "            if(len(y_indices) > 0):\n",
    "                coefficent = pearsonr(x,y)[0]\n",
    "        return coefficent\n",
    "    \n",
    "    def _jaccard_similarity(self,x, y):\n",
    "        x = np.array(x)\n",
    "        y = np.array(y)\n",
    "        nonzero_x = set(np.nonzero(x)[0])\n",
    "        nonzero_y = set(np.nonzero(y)[0])\n",
    "        intersection_size = len(nonzero_x.intersection(nonzero_y))\n",
    "        union_size = len(nonzero_x.union(nonzero_y))\n",
    "        if union_size == 0 or intersection_size ==0:\n",
    "            return 0\n",
    "        else:\n",
    "            return intersection_size/union_size\n",
    "        \n",
    "    def _frequency_similarity(self,x,y):\n",
    "        x = np.array(x)\n",
    "        y = np.array(y)\n",
    "        x_indices = np.argwhere(x==1)\n",
    "        if(len(x_indices) >0):\n",
    "            y_values = y[x_indices]\n",
    "            y_indices = np.where(y_values == 1)  \n",
    "            return len(y_indices)\n",
    "        return 0\n",
    "    \n",
    "    \n",
    "\n",
    "    ###this method returns the top five products that are complemented with the \n",
    "    ###the product\n",
    "    \n",
    "    def shopping_complementary_products(self, size = 5):\n",
    "        for x in range(0,len(self.similarity_matrix.columns)):\n",
    "            column_name = self.similarity_matrix.columns[x]\n",
    "            columns = np.delete(self.similarity_matrix.columns,x)\n",
    "            correlations = self.similarity_matrix[column_name]\n",
    "            correlations = np.delete(list(correlations), x)\n",
    "            sorted_indexes = np.argsort(correlations)[::-1]\n",
    "            correlations = correlations[sorted_indexes]\n",
    "            columns = columns[sorted_indexes]\n",
    "            indexes = np.argwhere(correlations > 0.3).flatten()\n",
    "            length = len(indexes)\n",
    "            if(length >0):\n",
    "                if(length <size):\n",
    "                    size = length\n",
    "                correlations = correlations[indexes][0:size]\n",
    "                columns = columns[indexes][0:size]\n",
    "                array = list(zip(columns, correlations, range(1,size+1)[::-1]))\n",
    "                self.complementary_products[column_name] = array\n",
    "            \n",
    "    def complementary_product(self, product = \"\"):\n",
    "        complements = self.complementary_products.get(product)\n",
    "        if complements!= None: \n",
    "            return complements\n",
    "        return None\n",
    "    \n",
    "    \n",
    "    def recommended_basket(self, shopping_basket = []):\n",
    "        ranking_dictinary = {}\n",
    "        for product in shopping_basket:\n",
    "            if(self.complementary_product(product) != None):\n",
    "                for item, correlation, rank in self.complementary_product(product):\n",
    "                    if item not in shopping_basket:\n",
    "                        if ranking_dictinary.get(item) == None:\n",
    "                            if(self.similarity != 'frequency'):\n",
    "                                ranking_dictinary[item] = rank\n",
    "                            else:\n",
    "                                ranking_dictinary[item] = correlation\n",
    "                        else:\n",
    "                            if(self.similarity != 'frequency'):\n",
    "                                ranking_dictinary[item] += rank\n",
    "                            else:\n",
    "                                ranking_dictinary[item] += correlation\n",
    "        ranking_dictinary = sorted(ranking_dictinary.items(), key=lambda x: x[1], reverse=True)\n",
    "        if(len(ranking_dictinary) !=0):\n",
    "            items = list(zip(*ranking_dictinary))[0]\n",
    "            if(len(items) !=0):\n",
    "                if(len(items) >5):\n",
    "                    items = items[0:5]\n",
    "\n",
    "            return items\n",
    "        else:\n",
    "            return None\n",
    "        \n",
    "\n",
    "        \n",
    "                \n",
    "        \n",
    "        \n",
    "#         coefficent = jaccard_score(x, y)\n",
    "#         return coefficent \n",
    "        \n",
    "    \n",
    "#         covariance_matrix = np.cov(x,y)\n",
    "#         std_dev_x = np.std(x)\n",
    "#         std_dev_y = np.std(y)\n",
    "#         numerator = covariance_matrix[0][1]\n",
    "#         denominator = std_dev_x*std_dev_y\n",
    "#         coefficent = numerator/denominator\n",
    "\n",
    "#         sum_x_y = np.dot(x,y)\n",
    "#         sum_x = np.sum(x)\n",
    "#         sum_y = np.sum(y)\n",
    "#         length = len(x)\n",
    "#         numerator = (length*sum_x_y) - (sum_x*sum_y)\n",
    "#         x_squared = x**2\n",
    "#         y_squared = y**2\n",
    "#         denominator_1 = np.sum(x_squared)*length - sum_x**2\n",
    "#         denominator_2 = np.sum(y_squared)*length - sum_y**2\n",
    "#         denominator = float(denominator_1*denominator_2)**(1/2)\n",
    "#         coefficent = float(round(numerator/denominator, 3))\n",
    "#         return coefficent\n",
    "\n",
    "#     def _jaccard_similarity(self, x, y):\n",
    "#         '''returns jaccard correlation between x and y: |intsection(x,y)|/|union(x,y)|'''\n",
    "#         #ideal for binary data, e.g. buy vs non-buy\n",
    "#         nonzero_x = set(np.nonzero(x)[0])\n",
    "#         nonzero_y = set(np.nonzero(y)[0])\n",
    "#         intersection_size = len(nonzero_x.intersection(nonzero_y))\n",
    "#         union_size = len(nonzero_x.union(nonzero_y))\n",
    "#         if union_size == 0:\n",
    "#             return 0\n",
    "#         else:\n",
    "#             return intersection_size/union_size\n",
    "\n",
    "#     def _cosine_similarity(self, x, y):\n",
    "#         '''returns cosine of angles between x and y'''\n",
    "#         pass\n",
    "    \n",
    "\n",
    "    "
   ]
  },
  {
   "cell_type": "code",
   "execution_count": 170,
   "metadata": {},
   "outputs": [],
   "source": [
    "user_col = 'order_number'\n",
    "item_cols = list(data.data.columns)\n",
    "item_cols.remove(user_col)"
   ]
  },
  {
   "cell_type": "code",
   "execution_count": 171,
   "metadata": {},
   "outputs": [],
   "source": [
    "rec_engine = Recommender(data.data, user_col=user_col, item_cols=item_cols, cf_method='item', similarity='frequency')"
   ]
  },
  {
   "cell_type": "code",
   "execution_count": 172,
   "metadata": {},
   "outputs": [],
   "source": [
    "# rec_engine.create_similarity_matrix()"
   ]
  },
  {
   "cell_type": "code",
   "execution_count": 173,
   "metadata": {},
   "outputs": [],
   "source": [
    "# rec_engine.similarity_matrix.to_csv('item_similarity.csv')"
   ]
  },
  {
   "cell_type": "code",
   "execution_count": 174,
   "metadata": {},
   "outputs": [],
   "source": [
    "# rec_engine.similarity_matrix.to_csv('item_similarity_jaccard.csv')\n",
    "rec_engine.similarity_matrix = pd.read_csv('item_similarity_frequency.csv', index_col = 0)"
   ]
  },
  {
   "cell_type": "code",
   "execution_count": 175,
   "metadata": {},
   "outputs": [
    {
     "data": {
      "text/html": [
       "<div>\n",
       "<style scoped>\n",
       "    .dataframe tbody tr th:only-of-type {\n",
       "        vertical-align: middle;\n",
       "    }\n",
       "\n",
       "    .dataframe tbody tr th {\n",
       "        vertical-align: top;\n",
       "    }\n",
       "\n",
       "    .dataframe thead th {\n",
       "        text-align: right;\n",
       "    }\n",
       "</style>\n",
       "<table border=\"1\" class=\"dataframe\">\n",
       "  <thead>\n",
       "    <tr style=\"text-align: right;\">\n",
       "      <th></th>\n",
       "      <th>12 Volt Accessories</th>\n",
       "      <th>12-Point Flange Head Cap Screws</th>\n",
       "      <th>3-Ring Binder Accessories</th>\n",
       "      <th>3-Ring Binders</th>\n",
       "      <th>3.3 Inch Diameter Motors</th>\n",
       "      <th>4.4 Inch Diameter Motors</th>\n",
       "      <th>5 X 20mm Glass and Ceramic Fuses</th>\n",
       "      <th>A/C Conduit Kits</th>\n",
       "      <th>A/C Mounting Pads</th>\n",
       "      <th>A/C Refrigeration Accessories</th>\n",
       "      <th>...</th>\n",
       "      <th>Workbench Pedestals</th>\n",
       "      <th>Workbench Tops</th>\n",
       "      <th>Workstands</th>\n",
       "      <th>Worm Gear Clamps</th>\n",
       "      <th>Wrap-a-Round Tape Measures</th>\n",
       "      <th>Wrist Rests and Palm Supports</th>\n",
       "      <th>Wrist Supports and Wraps</th>\n",
       "      <th>Y Strainers</th>\n",
       "      <th>Yard Hydrants</th>\n",
       "      <th>pH Meters</th>\n",
       "    </tr>\n",
       "  </thead>\n",
       "  <tbody>\n",
       "    <tr>\n",
       "      <th>12 Volt Accessories</th>\n",
       "      <td>8</td>\n",
       "      <td>0</td>\n",
       "      <td>0</td>\n",
       "      <td>0</td>\n",
       "      <td>1</td>\n",
       "      <td>0</td>\n",
       "      <td>0</td>\n",
       "      <td>0</td>\n",
       "      <td>0</td>\n",
       "      <td>0</td>\n",
       "      <td>...</td>\n",
       "      <td>1</td>\n",
       "      <td>1</td>\n",
       "      <td>0</td>\n",
       "      <td>0</td>\n",
       "      <td>0</td>\n",
       "      <td>0</td>\n",
       "      <td>0</td>\n",
       "      <td>0</td>\n",
       "      <td>0</td>\n",
       "      <td>0</td>\n",
       "    </tr>\n",
       "    <tr>\n",
       "      <th>12-Point Flange Head Cap Screws</th>\n",
       "      <td>0</td>\n",
       "      <td>1</td>\n",
       "      <td>0</td>\n",
       "      <td>0</td>\n",
       "      <td>0</td>\n",
       "      <td>0</td>\n",
       "      <td>0</td>\n",
       "      <td>0</td>\n",
       "      <td>0</td>\n",
       "      <td>0</td>\n",
       "      <td>...</td>\n",
       "      <td>0</td>\n",
       "      <td>0</td>\n",
       "      <td>0</td>\n",
       "      <td>1</td>\n",
       "      <td>0</td>\n",
       "      <td>0</td>\n",
       "      <td>0</td>\n",
       "      <td>0</td>\n",
       "      <td>0</td>\n",
       "      <td>0</td>\n",
       "    </tr>\n",
       "    <tr>\n",
       "      <th>3-Ring Binder Accessories</th>\n",
       "      <td>0</td>\n",
       "      <td>0</td>\n",
       "      <td>1</td>\n",
       "      <td>1</td>\n",
       "      <td>0</td>\n",
       "      <td>0</td>\n",
       "      <td>0</td>\n",
       "      <td>0</td>\n",
       "      <td>0</td>\n",
       "      <td>0</td>\n",
       "      <td>...</td>\n",
       "      <td>0</td>\n",
       "      <td>0</td>\n",
       "      <td>0</td>\n",
       "      <td>1</td>\n",
       "      <td>0</td>\n",
       "      <td>0</td>\n",
       "      <td>0</td>\n",
       "      <td>0</td>\n",
       "      <td>0</td>\n",
       "      <td>0</td>\n",
       "    </tr>\n",
       "    <tr>\n",
       "      <th>3-Ring Binders</th>\n",
       "      <td>0</td>\n",
       "      <td>0</td>\n",
       "      <td>1</td>\n",
       "      <td>11</td>\n",
       "      <td>0</td>\n",
       "      <td>0</td>\n",
       "      <td>0</td>\n",
       "      <td>0</td>\n",
       "      <td>0</td>\n",
       "      <td>0</td>\n",
       "      <td>...</td>\n",
       "      <td>0</td>\n",
       "      <td>0</td>\n",
       "      <td>0</td>\n",
       "      <td>1</td>\n",
       "      <td>0</td>\n",
       "      <td>0</td>\n",
       "      <td>0</td>\n",
       "      <td>0</td>\n",
       "      <td>0</td>\n",
       "      <td>0</td>\n",
       "    </tr>\n",
       "    <tr>\n",
       "      <th>3.3 Inch Diameter Motors</th>\n",
       "      <td>1</td>\n",
       "      <td>0</td>\n",
       "      <td>0</td>\n",
       "      <td>0</td>\n",
       "      <td>15</td>\n",
       "      <td>0</td>\n",
       "      <td>0</td>\n",
       "      <td>0</td>\n",
       "      <td>0</td>\n",
       "      <td>0</td>\n",
       "      <td>...</td>\n",
       "      <td>0</td>\n",
       "      <td>0</td>\n",
       "      <td>0</td>\n",
       "      <td>1</td>\n",
       "      <td>0</td>\n",
       "      <td>0</td>\n",
       "      <td>0</td>\n",
       "      <td>0</td>\n",
       "      <td>0</td>\n",
       "      <td>0</td>\n",
       "    </tr>\n",
       "  </tbody>\n",
       "</table>\n",
       "<p>5 rows × 4071 columns</p>\n",
       "</div>"
      ],
      "text/plain": [
       "                                 12 Volt Accessories  \\\n",
       "12 Volt Accessories                                8   \n",
       "12-Point Flange Head Cap Screws                    0   \n",
       "3-Ring Binder Accessories                          0   \n",
       "3-Ring Binders                                     0   \n",
       "3.3 Inch Diameter Motors                           1   \n",
       "\n",
       "                                 12-Point Flange Head Cap Screws  \\\n",
       "12 Volt Accessories                                            0   \n",
       "12-Point Flange Head Cap Screws                                1   \n",
       "3-Ring Binder Accessories                                      0   \n",
       "3-Ring Binders                                                 0   \n",
       "3.3 Inch Diameter Motors                                       0   \n",
       "\n",
       "                                 3-Ring Binder Accessories  3-Ring Binders  \\\n",
       "12 Volt Accessories                                      0               0   \n",
       "12-Point Flange Head Cap Screws                          0               0   \n",
       "3-Ring Binder Accessories                                1               1   \n",
       "3-Ring Binders                                           1              11   \n",
       "3.3 Inch Diameter Motors                                 0               0   \n",
       "\n",
       "                                 3.3 Inch Diameter Motors  \\\n",
       "12 Volt Accessories                                     1   \n",
       "12-Point Flange Head Cap Screws                         0   \n",
       "3-Ring Binder Accessories                               0   \n",
       "3-Ring Binders                                          0   \n",
       "3.3 Inch Diameter Motors                               15   \n",
       "\n",
       "                                 4.4 Inch Diameter Motors  \\\n",
       "12 Volt Accessories                                     0   \n",
       "12-Point Flange Head Cap Screws                         0   \n",
       "3-Ring Binder Accessories                               0   \n",
       "3-Ring Binders                                          0   \n",
       "3.3 Inch Diameter Motors                                0   \n",
       "\n",
       "                                 5 X 20mm Glass and Ceramic Fuses  \\\n",
       "12 Volt Accessories                                             0   \n",
       "12-Point Flange Head Cap Screws                                 0   \n",
       "3-Ring Binder Accessories                                       0   \n",
       "3-Ring Binders                                                  0   \n",
       "3.3 Inch Diameter Motors                                        0   \n",
       "\n",
       "                                 A/C Conduit Kits  A/C Mounting Pads  \\\n",
       "12 Volt Accessories                             0                  0   \n",
       "12-Point Flange Head Cap Screws                 0                  0   \n",
       "3-Ring Binder Accessories                       0                  0   \n",
       "3-Ring Binders                                  0                  0   \n",
       "3.3 Inch Diameter Motors                        0                  0   \n",
       "\n",
       "                                 A/C Refrigeration Accessories  ...  \\\n",
       "12 Volt Accessories                                          0  ...   \n",
       "12-Point Flange Head Cap Screws                              0  ...   \n",
       "3-Ring Binder Accessories                                    0  ...   \n",
       "3-Ring Binders                                               0  ...   \n",
       "3.3 Inch Diameter Motors                                     0  ...   \n",
       "\n",
       "                                 Workbench Pedestals  Workbench Tops  \\\n",
       "12 Volt Accessories                                1               1   \n",
       "12-Point Flange Head Cap Screws                    0               0   \n",
       "3-Ring Binder Accessories                          0               0   \n",
       "3-Ring Binders                                     0               0   \n",
       "3.3 Inch Diameter Motors                           0               0   \n",
       "\n",
       "                                 Workstands  Worm Gear Clamps  \\\n",
       "12 Volt Accessories                       0                 0   \n",
       "12-Point Flange Head Cap Screws           0                 1   \n",
       "3-Ring Binder Accessories                 0                 1   \n",
       "3-Ring Binders                            0                 1   \n",
       "3.3 Inch Diameter Motors                  0                 1   \n",
       "\n",
       "                                 Wrap-a-Round Tape Measures  \\\n",
       "12 Volt Accessories                                       0   \n",
       "12-Point Flange Head Cap Screws                           0   \n",
       "3-Ring Binder Accessories                                 0   \n",
       "3-Ring Binders                                            0   \n",
       "3.3 Inch Diameter Motors                                  0   \n",
       "\n",
       "                                 Wrist Rests and Palm Supports  \\\n",
       "12 Volt Accessories                                          0   \n",
       "12-Point Flange Head Cap Screws                              0   \n",
       "3-Ring Binder Accessories                                    0   \n",
       "3-Ring Binders                                               0   \n",
       "3.3 Inch Diameter Motors                                     0   \n",
       "\n",
       "                                 Wrist Supports and Wraps  Y Strainers  \\\n",
       "12 Volt Accessories                                     0            0   \n",
       "12-Point Flange Head Cap Screws                         0            0   \n",
       "3-Ring Binder Accessories                               0            0   \n",
       "3-Ring Binders                                          0            0   \n",
       "3.3 Inch Diameter Motors                                0            0   \n",
       "\n",
       "                                 Yard Hydrants  pH Meters  \n",
       "12 Volt Accessories                          0          0  \n",
       "12-Point Flange Head Cap Screws              0          0  \n",
       "3-Ring Binder Accessories                    0          0  \n",
       "3-Ring Binders                               0          0  \n",
       "3.3 Inch Diameter Motors                     0          0  \n",
       "\n",
       "[5 rows x 4071 columns]"
      ]
     },
     "execution_count": 175,
     "metadata": {},
     "output_type": "execute_result"
    }
   ],
   "source": [
    "rec_engine.similarity_matrix.head()"
   ]
  },
  {
   "cell_type": "code",
   "execution_count": 176,
   "metadata": {},
   "outputs": [],
   "source": [
    "rec_engine.shopping_complementary_products()"
   ]
  },
  {
   "cell_type": "code",
   "execution_count": 185,
   "metadata": {},
   "outputs": [],
   "source": [
    "####examples"
   ]
  },
  {
   "cell_type": "code",
   "execution_count": 177,
   "metadata": {},
   "outputs": [
    {
     "data": {
      "text/plain": [
       "[('Pens', 9, 5),\n",
       " ('Markers', 8, 4),\n",
       " ('Sticky Notes and Flags', 7, 3),\n",
       " ('Binder Clips', 6, 2),\n",
       " ('Pencils', 6, 1)]"
      ]
     },
     "execution_count": 177,
     "metadata": {},
     "output_type": "execute_result"
    }
   ],
   "source": [
    "rec_engine.complementary_product(product = '3-Ring Binders')"
   ]
  },
  {
   "cell_type": "code",
   "execution_count": 190,
   "metadata": {},
   "outputs": [
    {
     "data": {
      "text/plain": [
       "[('American Glass and Ceramic Fuses', 35, 5),\n",
       " ('Cable Ties', 31, 4),\n",
       " ('Hex Head Cap Screws', 30, 3),\n",
       " ('Flat Washers', 28, 2),\n",
       " ('Jobber Length Drill Bits', 24, 1)]"
      ]
     },
     "execution_count": 190,
     "metadata": {},
     "output_type": "execute_result"
    }
   ],
   "source": [
    "rec_engine.complementary_product(product = '5 X 20mm Glass and Ceramic Fuses')"
   ]
  },
  {
   "cell_type": "code",
   "execution_count": 191,
   "metadata": {},
   "outputs": [
    {
     "data": {
      "text/plain": [
       "[('Safety Glasses', 34, 5),\n",
       " ('Coated Gloves', 19, 4),\n",
       " ('Leather Work Gloves', 16, 3),\n",
       " ('Cut-Resistant Sleeves', 15, 2),\n",
       " ('Cut-Resistant Gloves', 15, 1)]"
      ]
     },
     "execution_count": 191,
     "metadata": {},
     "output_type": "execute_result"
    }
   ],
   "source": [
    "rec_engine.complementary_product(product = 'Wrist Supports and Wraps')"
   ]
  },
  {
   "cell_type": "code",
   "execution_count": 178,
   "metadata": {},
   "outputs": [
    {
     "data": {
      "text/plain": [
       "[('Safety Glasses', 997, 5),\n",
       " ('Standard Batteries', 732, 4),\n",
       " ('Ear Plugs', 667, 3),\n",
       " ('Trash Bags', 597, 2),\n",
       " ('Paper Towels, Rolls', 574, 1)]"
      ]
     },
     "execution_count": 178,
     "metadata": {},
     "output_type": "execute_result"
    }
   ],
   "source": [
    "rec_engine.complementary_product(product = 'Disposable Gloves')"
   ]
  },
  {
   "cell_type": "code",
   "execution_count": 184,
   "metadata": {},
   "outputs": [
    {
     "data": {
      "text/plain": [
       "[('Paper Towels, Rolls', 376, 5),\n",
       " ('Toilet Paper', 359, 4),\n",
       " ('Trash Bags', 358, 3),\n",
       " ('Disposable Gloves', 260, 2),\n",
       " ('Wet Mops', 172, 1)]"
      ]
     },
     "execution_count": 184,
     "metadata": {},
     "output_type": "execute_result"
    }
   ],
   "source": [
    "rec_engine.complementary_product(product = 'Disinfectants and Sanitizers')"
   ]
  },
  {
   "cell_type": "code",
   "execution_count": 182,
   "metadata": {},
   "outputs": [
    {
     "data": {
      "text/plain": [
       "('Cut-Resistant Gloves',\n",
       " 'Coated Gloves',\n",
       " 'Trash Bags',\n",
       " 'Paper Towels, Rolls',\n",
       " 'Leather Work Gloves')"
      ]
     },
     "execution_count": 182,
     "metadata": {},
     "output_type": "execute_result"
    }
   ],
   "source": [
    "rec_engine.recommended_basket(['Disposable Gloves','Safety Glasses','Ear Plugs','Standard Batteries'])"
   ]
  },
  {
   "cell_type": "code",
   "execution_count": 192,
   "metadata": {},
   "outputs": [],
   "source": [
    "import ipywidgets as widgets"
   ]
  },
  {
   "cell_type": "code",
   "execution_count": 193,
   "metadata": {},
   "outputs": [],
   "source": [
    "data = pd.read_csv('Ecorp_data/All Transations - 2 Weeks.txt', sep='\\t')"
   ]
  },
  {
   "cell_type": "code",
   "execution_count": 203,
   "metadata": {},
   "outputs": [],
   "source": [
    "unique_products = np.unique(data['l3'])\n",
    "unique_products = np.insert(unique_products, 0, 'nothing', axis=0)"
   ]
  },
  {
   "cell_type": "code",
   "execution_count": 214,
   "metadata": {},
   "outputs": [],
   "source": [
    "dropdown_product_compliment = widgets.Dropdown(options= unique_products,\n",
    "    description='Products:',\n",
    "    disabled=False)\n",
    "\n",
    "value = []\n",
    "\n",
    "def dropdown_product_compliment_eventhandler(change):\n",
    "    if (change.new != 'nothing'):\n",
    "        if'index' not in str(change.new):\n",
    "            if str(change.new) in unique_products and str(change.new) not in value:\n",
    "                value.append(str(change.new))\n",
    "                print(str(change.new))\n",
    "                print('Rec engine recommends')\n",
    "                print(rec_engine.complementary_product(product = str(change.new)))\n",
    "dropdown_product_compliment.observe(dropdown_product_compliment_eventhandler)"
   ]
  },
  {
   "cell_type": "markdown",
   "metadata": {},
   "source": [
    "Can experiment with compliment products"
   ]
  },
  {
   "cell_type": "code",
   "execution_count": 216,
   "metadata": {},
   "outputs": [
    {
     "data": {
      "application/vnd.jupyter.widget-view+json": {
       "model_id": "e58c9e9fe33a44fb8ff46c0943ba0c54",
       "version_major": 2,
       "version_minor": 0
      },
      "text/plain": [
       "Dropdown(description='Products:', index=1, options=('nothing', '12 Volt Accessories', '12-Point Flange Head Ca…"
      ]
     },
     "metadata": {},
     "output_type": "display_data"
    },
    {
     "name": "stdout",
     "output_type": "stream",
     "text": [
      "Badminton\n",
      "Rec engine recommends\n",
      "None\n",
      "Baking Cups\n",
      "Rec engine recommends\n",
      "[('Kitchenware Tumblers and Shakers', 1, 5), ('Glass Cleaners', 1, 4), ('Hand Sanitizer, Lotion, and Soap Dispensers', 1, 3), ('Aluminum Foil and Film Rolls', 1, 2), ('Serving Utensils', 1, 1)]\n",
      "Battery Accessories\n",
      "Rec engine recommends\n",
      "[('Flare Nut Wrenches', 5, 5), ('Socket Adapters', 5, 4), ('Socket Extensions', 5, 3), ('Sockets', 5, 2), ('Cable and Wire Cutters', 4, 1)]\n"
     ]
    }
   ],
   "source": [
    "dropdown_product_compliment"
   ]
  },
  {
   "cell_type": "code",
   "execution_count": 223,
   "metadata": {},
   "outputs": [],
   "source": [
    "dropdown_product_compliment = widgets.Dropdown(options= unique_products,\n",
    "    description='Products:',\n",
    "    disabled=False)\n",
    "\n",
    "value = []\n",
    "\n",
    "def dropdown_product_compliment_eventhandler(change):\n",
    "    if (change.new != 'nothing'):\n",
    "        if'index' not in str(change.new):\n",
    "            if str(change.new) in unique_products and str(change.new) not in value:\n",
    "                value.append(str(change.new))\n",
    "                print(str(change.new))\n",
    "dropdown_product_compliment.observe(dropdown_product_compliment_eventhandler)"
   ]
  },
  {
   "cell_type": "markdown",
   "metadata": {},
   "source": [
    "Basket Analysis"
   ]
  },
  {
   "cell_type": "code",
   "execution_count": 229,
   "metadata": {},
   "outputs": [
    {
     "data": {
      "application/vnd.jupyter.widget-view+json": {
       "model_id": "8c584c491d114671a634de20dd46ae57",
       "version_major": 2,
       "version_minor": 0
      },
      "text/plain": [
       "Dropdown(description='Products:', options=('nothing', '12 Volt Accessories', '12-Point Flange Head Cap Screws'…"
      ]
     },
     "metadata": {},
     "output_type": "display_data"
    },
    {
     "name": "stdout",
     "output_type": "stream",
     "text": [
      "3-Ring Binder Accessories\n",
      "3D Printing Materials\n",
      "50 Hz Motors\n"
     ]
    }
   ],
   "source": [
    "dropdown_product_compliment"
   ]
  },
  {
   "cell_type": "code",
   "execution_count": 231,
   "metadata": {},
   "outputs": [
    {
     "data": {
      "application/vnd.jupyter.widget-view+json": {
       "model_id": "3a96f5ee22434b158c17fd304c498545",
       "version_major": 2,
       "version_minor": 0
      },
      "text/plain": [
       "Button(description='Recommend for basket', style=ButtonStyle())"
      ]
     },
     "metadata": {},
     "output_type": "display_data"
    },
    {
     "data": {
      "application/vnd.jupyter.widget-view+json": {
       "model_id": "8a2dba2c07b64ada9d4f6e0c1f7fa595",
       "version_major": 2,
       "version_minor": 0
      },
      "text/plain": [
       "Output()"
      ]
     },
     "metadata": {},
     "output_type": "display_data"
    }
   ],
   "source": [
    "button = widgets.Button(description=\"Recommend for basket\")\n",
    "output = widgets.Output()\n",
    "\n",
    "display(button, output)\n",
    "\n",
    "def on_button_clicked(b):\n",
    "    with output:\n",
    "        print(\"Based on Basket, rec engine recommends\")\n",
    "        print(rec_engine.recommended_basket(value))\n",
    "\n",
    "button.on_click(on_button_clicked)"
   ]
  },
  {
   "cell_type": "code",
   "execution_count": null,
   "metadata": {},
   "outputs": [],
   "source": []
  },
  {
   "cell_type": "code",
   "execution_count": null,
   "metadata": {},
   "outputs": [],
   "source": []
  },
  {
   "cell_type": "code",
   "execution_count": null,
   "metadata": {},
   "outputs": [],
   "source": []
  },
  {
   "cell_type": "code",
   "execution_count": null,
   "metadata": {},
   "outputs": [],
   "source": []
  },
  {
   "cell_type": "code",
   "execution_count": null,
   "metadata": {},
   "outputs": [],
   "source": []
  },
  {
   "cell_type": "code",
   "execution_count": null,
   "metadata": {},
   "outputs": [],
   "source": []
  },
  {
   "cell_type": "code",
   "execution_count": null,
   "metadata": {},
   "outputs": [],
   "source": []
  },
  {
   "cell_type": "code",
   "execution_count": null,
   "metadata": {},
   "outputs": [],
   "source": []
  },
  {
   "cell_type": "code",
   "execution_count": null,
   "metadata": {},
   "outputs": [],
   "source": []
  },
  {
   "cell_type": "code",
   "execution_count": null,
   "metadata": {},
   "outputs": [],
   "source": []
  },
  {
   "cell_type": "code",
   "execution_count": null,
   "metadata": {},
   "outputs": [],
   "source": []
  }
 ],
 "metadata": {
  "kernelspec": {
   "display_name": "Python 3",
   "language": "python",
   "name": "python3"
  },
  "language_info": {
   "codemirror_mode": {
    "name": "ipython",
    "version": 3
   },
   "file_extension": ".py",
   "mimetype": "text/x-python",
   "name": "python",
   "nbconvert_exporter": "python",
   "pygments_lexer": "ipython3",
   "version": "3.8.3"
  }
 },
 "nbformat": 4,
 "nbformat_minor": 4
}
